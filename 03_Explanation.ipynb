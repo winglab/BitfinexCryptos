{
 "cells": [
  {
   "cell_type": "markdown",
   "id": "5ebd3577-1d90-4fb9-b00a-6eb0cdb9f346",
   "metadata": {
    "tags": []
   },
   "source": [
    "# Mean reverting strategy"
   ]
  },
  {
   "cell_type": "markdown",
   "id": "838e9a51-d201-43c6-8951-7e32eb5f89dc",
   "metadata": {},
   "source": [
    "## Research"
   ]
  },
  {
   "cell_type": "markdown",
   "id": "611d0c30-62a5-44d1-9aee-e79daabfc5a5",
   "metadata": {},
   "source": [
    "- I have down-sampled the data set to daily frequency, as some cryptos are not that active at a minute level\n",
    "- I have also filtered out cryptos listed after 2018, to make sure there are enough data points to produce statistically signifcant result\n",
    "- After the two transformations above, we have a clean data set with 4 years of data (1461 observations) and 49 symbols\n",
    "- The first half would be used as training data and the second half would be used as testing data\n",
    "- Daily returns are calculated and correlations are then computed to find highly correlated pairs (visualized by the clustermap)\n",
    "- This gives us a cluster of 17 symbols\n",
    "- We then perform cointegration test to find the pairs that are truly cointegrating, which gives us 57 pairs in the end"
   ]
  },
  {
   "cell_type": "markdown",
   "id": "7d2fbb6f-4d37-4e87-b198-2a3437f7d942",
   "metadata": {},
   "source": [
    "## Strategy"
   ]
  },
  {
   "cell_type": "markdown",
   "id": "a601b48c-be80-4673-9848-b432160d130e",
   "metadata": {},
   "source": [
    "- For each of the pair, we would first use Johansen test to determine the optimal hedge ratio\n",
    "- With the hedge ratio, we could then proceed to produce a univeriate spread time series\n",
    "- Next, we would calculate the 30-day rolling mean and standard deviation\n",
    "- Finally, we could produce a tradable signal, z-score, with the spread standardized by the rolling mean and standard deviation\n",
    "- In my backtesting, my entry signal would be triggered whenever the absolute value of z-score exceeds 2 and I would close the position when the z-score hits zero.\n",
    "- We repeat the above procedures for all the pairs and calculate the cumulative returns over the testing period of 2 years\n",
    "- A quick look at the distribution of terminal wealth shows us the returns are negatively skewed with a positive mean of 1.3 (i.e. our wealth would be more than doubled in just 2 years, which is not that surprising given the volatility of cryptos)"
   ]
  },
  {
   "cell_type": "markdown",
   "id": "8f1a04fa-cc1e-4865-837c-41619196421f",
   "metadata": {},
   "source": [
    "## Momentum strategy"
   ]
  },
  {
   "cell_type": "markdown",
   "id": "f01c1eb1-4a12-4a49-97a4-42a472e6b59c",
   "metadata": {},
   "source": [
    "## Research"
   ]
  },
  {
   "cell_type": "markdown",
   "id": "778faccf-611d-4d5f-8dfb-42782ce62f33",
   "metadata": {},
   "source": [
    "- Financial returns usually exhibit positive serial correlation, which is an important criteria for momentum strategies\n",
    "- We examine the serial correlation with the ACF plot for each symbol and to my surprise, none of them show significant serial correlation in any no. of lags.\n",
    "- There are a few exceptions (avtusd, rrtusd, sanbtc, saneth) that show a very slight negative correlation at the first lag, which coincides with the well-known one-day reversal pattern\n",
    "- However, after binning the factor (previous day return) into 5 buckets and looking at the distribution of next day return, we could see that the edge is too small for a profitable strategy (especially after accounting for transaction cost)\n",
    "- I have repeated the above analysis for weekly returns as well and it yields similar result (i.e. there is no correlation between previous week return and this week return)"
   ]
  }
 ],
 "metadata": {
  "kernelspec": {
   "display_name": "Python 3 (ipykernel)",
   "language": "python",
   "name": "python3"
  },
  "language_info": {
   "codemirror_mode": {
    "name": "ipython",
    "version": 3
   },
   "file_extension": ".py",
   "mimetype": "text/x-python",
   "name": "python",
   "nbconvert_exporter": "python",
   "pygments_lexer": "ipython3",
   "version": "3.8.10"
  }
 },
 "nbformat": 4,
 "nbformat_minor": 5
}
